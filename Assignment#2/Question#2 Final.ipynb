{
 "cells": [
  {
   "cell_type": "code",
   "execution_count": 10,
   "id": "964f4c7a",
   "metadata": {},
   "outputs": [],
   "source": [
    "import pandas as pd\n",
    "from sklearn import tree\n",
    "import matplotlib.pyplot as mp\n",
    "import seaborn as sb\n",
    "import matplotlib.pyplot as plt\n",
    "from sklearn.svm import LinearSVC\n",
    "from sklearn.datasets import fetch_openml\n",
    "from sklearn.model_selection import train_test_split\n",
    "from sklearn.svm import SVC\n",
    "from sklearn.preprocessing import StandardScaler\n",
    "from sklearn.metrics import accuracy_score\n",
    "import numpy as np\n"
   ]
  },
  {
   "cell_type": "code",
   "execution_count": 2,
   "id": "7751d4ad",
   "metadata": {},
   "outputs": [],
   "source": [
    "mnist = fetch_openml(name=\"mnist_784\", version=1)\n",
    "X, y = mnist.data, mnist.target"
   ]
  },
  {
   "cell_type": "code",
   "execution_count": 3,
   "id": "f5a156da",
   "metadata": {},
   "outputs": [],
   "source": [
    "# Split the data into 50% for X and y\n",
    "X_50, _, y_50, _ = train_test_split(X, y, test_size=0.5, random_state=42)"
   ]
  },
  {
   "cell_type": "markdown",
   "id": "ca4a42eb",
   "metadata": {},
   "source": [
    "# This is simple SVM funtion"
   ]
  },
  {
   "cell_type": "code",
   "execution_count": 4,
   "id": "cbb4aaa8",
   "metadata": {},
   "outputs": [],
   "source": [
    "#linear_X_train, linear_X_test, linear_y_train, linear_y_test = train_test_split(X, y, test_size=0.2, random_state=42)\n",
    "#X_train, X_test, y_train, y_test = train_test_split(X, y, test_size=0.2, random_state=42)\n",
    "#linear_X_train, linear_X_test, linear_y_train, linear_y_test = train_test_split(X, y, test_size=0.2, random_state=42)\n",
    "#Xtrain, Xtest, ytrain, ytest = train_test_split(X, y, test_size=0.2, random_state=42)"
   ]
  },
  {
   "cell_type": "code",
   "execution_count": 5,
   "id": "dc5dd992",
   "metadata": {},
   "outputs": [],
   "source": [
    "linear_X_train, linear_X_test, linear_y_train, linear_y_test = train_test_split(X_50, y_50, test_size=0.2, random_state=42)\n",
    "X_train, X_test, y_train, y_test = train_test_split(X_50, y_50, test_size=0.2, random_state=42)\n",
    "linear_X_train, linear_X_test, linear_y_train, linear_y_test = train_test_split(X_50, y_50, test_size=0.2, random_state=42)\n",
    "Xtrain, Xtest, ytrain, ytest = train_test_split(X_50, y_50, test_size=0.2, random_state=42)"
   ]
  },
  {
   "cell_type": "code",
   "execution_count": 6,
   "id": "1d7d9752",
   "metadata": {},
   "outputs": [
    {
     "data": {
      "text/plain": [
       "SVC()"
      ]
     },
     "execution_count": 6,
     "metadata": {},
     "output_type": "execute_result"
    }
   ],
   "source": [
    "svm_clf = SVC()\n",
    "svm_clf.fit(X_train, y_train)"
   ]
  },
  {
   "cell_type": "code",
   "execution_count": 11,
   "id": "8ad62195",
   "metadata": {},
   "outputs": [
    {
     "name": "stderr",
     "output_type": "stream",
     "text": [
      "C:\\Users\\Aquib Javed\\anaconda3\\lib\\site-packages\\sklearn\\svm\\_base.py:1206: ConvergenceWarning: Liblinear failed to converge, increase the number of iterations.\n",
      "  warnings.warn(\n"
     ]
    },
    {
     "data": {
      "text/plain": [
       "LinearSVC()"
      ]
     },
     "execution_count": 11,
     "metadata": {},
     "output_type": "execute_result"
    }
   ],
   "source": [
    "Linear_svm = LinearSVC()\n",
    "Linear_svm.fit(linear_X_train, linear_y_train)"
   ]
  },
  {
   "cell_type": "code",
   "execution_count": 12,
   "id": "63ef6d78",
   "metadata": {},
   "outputs": [
    {
     "name": "stdout",
     "output_type": "stream",
     "text": [
      "Training accuracy of Linear SVM: 88.79%\n"
     ]
    }
   ],
   "source": [
    "linear_svm_train_accuracy = Linear_svm.score(X_train, y_train)\n",
    "print(f\"Training accuracy of Linear SVM: {linear_svm_train_accuracy:.2%}\")"
   ]
  },
  {
   "cell_type": "code",
   "execution_count": 13,
   "id": "9531592b",
   "metadata": {},
   "outputs": [
    {
     "name": "stdout",
     "output_type": "stream",
     "text": [
      "Training accuracy of SVC=: 88.79%\n"
     ]
    }
   ],
   "source": [
    "svm_train_accuracy = Linear_svm.score(X_train, y_train)\n",
    "print(f\"Training accuracy of SVC=: {svm_train_accuracy:.2%}\")"
   ]
  },
  {
   "cell_type": "markdown",
   "id": "58f0ae24",
   "metadata": {},
   "source": [
    "# now applying scaling and re-training"
   ]
  },
  {
   "cell_type": "code",
   "execution_count": 14,
   "id": "d8e13af0",
   "metadata": {},
   "outputs": [],
   "source": [
    "#for simple svm funtion\n",
    "scaler = StandardScaler()\n",
    "X_train_scaled = scaler.fit_transform(X_train)\n",
    "#for simple linear-svm funtion\n",
    "scaler = StandardScaler()\n",
    "linear_X_train_scaled = scaler.fit_transform(X_train)"
   ]
  },
  {
   "cell_type": "code",
   "execution_count": 15,
   "id": "88306349",
   "metadata": {},
   "outputs": [
    {
     "data": {
      "text/plain": [
       "SVC()"
      ]
     },
     "execution_count": 15,
     "metadata": {},
     "output_type": "execute_result"
    }
   ],
   "source": [
    "scaled_svm = SVC()\n",
    "scaled_svm.fit(X_train_scaled, y_train)"
   ]
  },
  {
   "cell_type": "code",
   "execution_count": 16,
   "id": "6b947a0b",
   "metadata": {},
   "outputs": [
    {
     "name": "stderr",
     "output_type": "stream",
     "text": [
      "C:\\Users\\Aquib Javed\\anaconda3\\lib\\site-packages\\sklearn\\svm\\_base.py:1206: ConvergenceWarning: Liblinear failed to converge, increase the number of iterations.\n",
      "  warnings.warn(\n"
     ]
    },
    {
     "data": {
      "text/plain": [
       "LinearSVC()"
      ]
     },
     "execution_count": 16,
     "metadata": {},
     "output_type": "execute_result"
    }
   ],
   "source": [
    "scaled_Linear_svm = LinearSVC()\n",
    "scaled_Linear_svm.fit(linear_X_train_scaled, linear_y_train)"
   ]
  },
  {
   "cell_type": "code",
   "execution_count": null,
   "id": "31d1b133",
   "metadata": {},
   "outputs": [],
   "source": []
  },
  {
   "cell_type": "code",
   "execution_count": 17,
   "id": "2be7ef4f",
   "metadata": {},
   "outputs": [
    {
     "name": "stderr",
     "output_type": "stream",
     "text": [
      "C:\\Users\\Aquib Javed\\anaconda3\\lib\\site-packages\\sklearn\\base.py:443: UserWarning: X has feature names, but SVC was fitted without feature names\n",
      "  warnings.warn(\n"
     ]
    },
    {
     "name": "stdout",
     "output_type": "stream",
     "text": [
      "Training accuracy of Scaled SVM: 10.19%\n"
     ]
    }
   ],
   "source": [
    "# Report training accuracy for SVM\n",
    "scaled_svm_train_accuracy = scaled_svm.score(X_train, y_train)\n",
    "print(f\"Training accuracy of Scaled SVM: {scaled_svm_train_accuracy:.2%}\")"
   ]
  },
  {
   "cell_type": "code",
   "execution_count": 18,
   "id": "f9d26c76",
   "metadata": {},
   "outputs": [
    {
     "name": "stdout",
     "output_type": "stream",
     "text": [
      "Training accuracy of Scaled linear SVM: 81.16%\n"
     ]
    },
    {
     "name": "stderr",
     "output_type": "stream",
     "text": [
      "C:\\Users\\Aquib Javed\\anaconda3\\lib\\site-packages\\sklearn\\base.py:443: UserWarning: X has feature names, but LinearSVC was fitted without feature names\n",
      "  warnings.warn(\n"
     ]
    }
   ],
   "source": [
    "# Report training accuracy for linear SVM\n",
    "scaled_Linear_svm_train_accuracy = scaled_Linear_svm.score(X_train, y_train)\n",
    "print(f\"Training accuracy of Scaled linear SVM: {scaled_Linear_svm_train_accuracy:.2%}\")"
   ]
  },
  {
   "cell_type": "code",
   "execution_count": 19,
   "id": "cc72209f",
   "metadata": {},
   "outputs": [
    {
     "name": "stdout",
     "output_type": "stream",
     "text": [
      " i am done with assignmetn\n"
     ]
    }
   ],
   "source": [
    "print(' i am done with assignmetn')"
   ]
  },
  {
   "cell_type": "code",
   "execution_count": null,
   "id": "95df76ab",
   "metadata": {},
   "outputs": [],
   "source": []
  },
  {
   "cell_type": "code",
   "execution_count": null,
   "id": "9ed4207d",
   "metadata": {},
   "outputs": [],
   "source": []
  },
  {
   "cell_type": "code",
   "execution_count": 20,
   "id": "56f33015",
   "metadata": {},
   "outputs": [
    {
     "data": {
      "text/plain": [
       "SVC(kernel='linear')"
      ]
     },
     "execution_count": 20,
     "metadata": {},
     "output_type": "execute_result"
    }
   ],
   "source": [
    "svm_linear = SVC(kernel='linear', decision_function_shape='ovr')\n",
    "svm_linear.fit(Xtrain, ytrain)"
   ]
  },
  {
   "cell_type": "code",
   "execution_count": 21,
   "id": "cee199cc",
   "metadata": {},
   "outputs": [
    {
     "name": "stdout",
     "output_type": "stream",
     "text": [
      "Training accuracy of linear SVM: 100.00%\n"
     ]
    }
   ],
   "source": [
    "svm_linear_accuracy = svm_linear.score(Xtrain, ytrain)\n",
    "print(f\"Training accuracy of linear SVM: {svm_linear_accuracy:.2%}\")"
   ]
  },
  {
   "cell_type": "code",
   "execution_count": 22,
   "id": "86b48f9f",
   "metadata": {},
   "outputs": [],
   "source": [
    "scaler = StandardScaler()\n",
    "Xtrain_scaled = scaler.fit_transform(Xtrain)"
   ]
  },
  {
   "cell_type": "code",
   "execution_count": 23,
   "id": "69ecaa4c",
   "metadata": {},
   "outputs": [
    {
     "data": {
      "text/plain": [
       "SVC(kernel='linear')"
      ]
     },
     "execution_count": 23,
     "metadata": {},
     "output_type": "execute_result"
    }
   ],
   "source": [
    "svm_linear_scaled = SVC(kernel='linear', decision_function_shape='ovr')\n",
    "svm_linear_scaled.fit(Xtrain_scaled, ytrain)"
   ]
  },
  {
   "cell_type": "code",
   "execution_count": 24,
   "id": "3fa31b14",
   "metadata": {},
   "outputs": [
    {
     "name": "stdout",
     "output_type": "stream",
     "text": [
      "Training accuracy of Scaled linear SVM: 99.61%\n"
     ]
    }
   ],
   "source": [
    "svm_scaled_train_accuracy = svm_linear_scaled.score(Xtrain_scaled, ytrain)\n",
    "print(f\"Training accuracy of Scaled linear SVM: {svm_scaled_train_accuracy:.2%}\")"
   ]
  },
  {
   "cell_type": "code",
   "execution_count": null,
   "id": "178aacfe",
   "metadata": {},
   "outputs": [],
   "source": []
  },
  {
   "cell_type": "code",
   "execution_count": null,
   "id": "62866378",
   "metadata": {},
   "outputs": [],
   "source": []
  },
  {
   "cell_type": "code",
   "execution_count": null,
   "id": "4f1a9758",
   "metadata": {},
   "outputs": [],
   "source": []
  }
 ],
 "metadata": {
  "kernelspec": {
   "display_name": "Python 3 (ipykernel)",
   "language": "python",
   "name": "python3"
  },
  "language_info": {
   "codemirror_mode": {
    "name": "ipython",
    "version": 3
   },
   "file_extension": ".py",
   "mimetype": "text/x-python",
   "name": "python",
   "nbconvert_exporter": "python",
   "pygments_lexer": "ipython3",
   "version": "3.9.13"
  }
 },
 "nbformat": 4,
 "nbformat_minor": 5
}
