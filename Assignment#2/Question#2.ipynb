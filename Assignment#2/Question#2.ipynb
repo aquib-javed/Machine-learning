{
 "cells": [
  {
   "cell_type": "code",
   "execution_count": 1,
   "id": "955ca048",
   "metadata": {},
   "outputs": [],
   "source": [
    "import pandas as pd\n",
    "from sklearn import tree\n",
    "import matplotlib.pyplot as mp\n",
    "import seaborn as sb\n",
    "import matplotlib.pyplot as plt\n",
    "from sklearn.datasets import fetch_openml\n",
    "from sklearn.model_selection import train_test_split\n",
    "from sklearn.svm import SVC\n",
    "from sklearn.preprocessing import StandardScaler\n",
    "from sklearn.metrics import accuracy_score\n",
    "import numpy as np\n"
   ]
  },
  {
   "cell_type": "code",
   "execution_count": 2,
   "id": "7f8cb5bc",
   "metadata": {},
   "outputs": [],
   "source": [
    "# Fetch the MNIST dataset\n",
    "mnist = fetch_openml(name=\"mnist_784\", version=1)\n",
    "X, y = mnist.data, mnist.target"
   ]
  },
  {
   "cell_type": "code",
   "execution_count": 3,
   "id": "4c6d7992",
   "metadata": {},
   "outputs": [],
   "source": [
    "X_train, X_test, y_train, y_test = train_test_split(X, y, test_size=0.2, random_state=42)\n"
   ]
  },
  {
   "cell_type": "code",
   "execution_count": 4,
   "id": "932c5805",
   "metadata": {},
   "outputs": [
    {
     "name": "stdout",
     "output_type": "stream",
     "text": [
      "<class 'pandas.core.frame.DataFrame'>\n",
      "RangeIndex: 70000 entries, 0 to 69999\n",
      "Columns: 784 entries, pixel1 to pixel784\n",
      "dtypes: float64(784)\n",
      "memory usage: 418.7 MB\n"
     ]
    }
   ],
   "source": [
    "X.info()"
   ]
  },
  {
   "cell_type": "code",
   "execution_count": null,
   "id": "9646d179",
   "metadata": {},
   "outputs": [],
   "source": [
    "X.shape\n",
    "\n"
   ]
  },
  {
   "cell_type": "code",
   "execution_count": 5,
   "id": "94bf8b57",
   "metadata": {},
   "outputs": [
    {
     "name": "stdout",
     "output_type": "stream",
     "text": [
      "<class 'pandas.core.series.Series'>\n",
      "RangeIndex: 70000 entries, 0 to 69999\n",
      "Series name: class\n",
      "Non-Null Count  Dtype   \n",
      "--------------  -----   \n",
      "70000 non-null  category\n",
      "dtypes: category(1)\n",
      "memory usage: 68.9 KB\n"
     ]
    }
   ],
   "source": [
    "y.info()"
   ]
  },
  {
   "cell_type": "code",
   "execution_count": 6,
   "id": "06d78310",
   "metadata": {},
   "outputs": [],
   "source": [
    "\n",
    "# Convert labels to integers\n",
    "y_train = y_train.astype(int)\n",
    "y_test = y_test.astype(int)"
   ]
  },
  {
   "cell_type": "code",
   "execution_count": null,
   "id": "74676fb4",
   "metadata": {},
   "outputs": [],
   "source": []
  },
  {
   "cell_type": "code",
   "execution_count": null,
   "id": "dadbfbe7",
   "metadata": {},
   "outputs": [],
   "source": [
    "# Train a linear SVM classifier (one-versus-all)\n",
    "linear_svm_classifier = SVC(kernel='linear', decision_function_shape='ovr')\n",
    "linear_svm_classifier.fit(X_train, y_train)"
   ]
  },
  {
   "cell_type": "code",
   "execution_count": null,
   "id": "36551d0b",
   "metadata": {},
   "outputs": [],
   "source": []
  },
  {
   "cell_type": "code",
   "execution_count": null,
   "id": "4399dc75",
   "metadata": {},
   "outputs": [],
   "source": [
    "# Report training accuracy for linear SVM\n",
    "linear_svm_train_accuracy = linear_svm_classifier.score(X_train, y_train)\n",
    "print(f\"Training accuracy of Linear SVM: {linear_svm_train_accuracy:.2%}\")\n"
   ]
  },
  {
   "cell_type": "code",
   "execution_count": null,
   "id": "c8cf53ab",
   "metadata": {},
   "outputs": [],
   "source": []
  },
  {
   "cell_type": "code",
   "execution_count": null,
   "id": "ee156828",
   "metadata": {},
   "outputs": [],
   "source": [
    "# Standardize the data\n",
    "scaler = StandardScaler()\n",
    "X_train_scaled = scaler.fit_transform(X_train)"
   ]
  },
  {
   "cell_type": "code",
   "execution_count": null,
   "id": "16976703",
   "metadata": {},
   "outputs": [],
   "source": []
  },
  {
   "cell_type": "code",
   "execution_count": null,
   "id": "6058a95d",
   "metadata": {},
   "outputs": [],
   "source": [
    "# Train a scaled linear SVM classifier\n",
    "scaled_linear_svm_classifier = SVC(kernel='linear', decision_function_shape='ovr')\n",
    "scaled_linear_svm_classifier.fit(X_train_scaled, y_train)"
   ]
  },
  {
   "cell_type": "code",
   "execution_count": null,
   "id": "63a8a90d",
   "metadata": {},
   "outputs": [],
   "source": []
  },
  {
   "cell_type": "code",
   "execution_count": null,
   "id": "3272ce1e",
   "metadata": {},
   "outputs": [],
   "source": [
    "# Report training accuracy for scaled linear SVM\n",
    "scaled_linear_svm_train_accuracy = scaled_linear_svm_classifier.score(X_train_scaled, y_train)\n",
    "print(f\"Training accuracy of Scaled Linear SVM: {scaled_linear_svm_train_accuracy:.2%}\")\n"
   ]
  },
  {
   "cell_type": "code",
   "execution_count": null,
   "id": "aad26d1a",
   "metadata": {},
   "outputs": [],
   "source": []
  },
  {
   "cell_type": "code",
   "execution_count": null,
   "id": "37b0ca6c",
   "metadata": {},
   "outputs": [],
   "source": [
    "# Train a non-linear SVM with RBF kernel\n",
    "rbf_svm_classifier = SVC(kernel='rbf', decision_function_shape='ovr')\n",
    "rbf_svm_classifier.fit(X_train_scaled, y_train)"
   ]
  },
  {
   "cell_type": "code",
   "execution_count": null,
   "id": "68597927",
   "metadata": {},
   "outputs": [],
   "source": [
    "# Report training accuracy for RBF kernel SVM\n",
    "rbf_svm_train_accuracy = rbf_svm_classifier.score(X_train_scaled, y_train)\n",
    "print(f\"Training accuracy of RBF Kernel SVM: {rbf_svm_train_accuracy:.2%}\")\n"
   ]
  },
  {
   "cell_type": "code",
   "execution_count": null,
   "id": "6587fb78",
   "metadata": {},
   "outputs": [],
   "source": [
    "# Make predictions on the test data\n",
    "X_test_scaled = scaler.transform(X_test)"
   ]
  },
  {
   "cell_type": "code",
   "execution_count": null,
   "id": "b4eb582c",
   "metadata": {},
   "outputs": [],
   "source": [
    "linear_svm_predictions = linear_svm_classifier.predict(X_test)\n",
    "scaled_linear_svm_predictions = scaled_linear_svm_classifier.predict(X_test_scaled)\n",
    "rbf_svm_predictions = rbf_svm_classifier.predict(X_test_scaled)\n"
   ]
  },
  {
   "cell_type": "code",
   "execution_count": null,
   "id": "21804fc1",
   "metadata": {},
   "outputs": [],
   "source": []
  },
  {
   "cell_type": "code",
   "execution_count": null,
   "id": "b89041ed",
   "metadata": {},
   "outputs": [],
   "source": [
    "# Report the accuracy for each class on the test data\n",
    "for digit in range(10):\n",
    "    linear_svm_accuracy = accuracy_score(y_test == digit, linear_svm_predictions == digit)\n",
    "    scaled_linear_svm_accuracy = accuracy_score(y_test == digit, scaled_linear_svm_predictions == digit)\n",
    "    rbf_svm_accuracy = accuracy_score(y_test == digit, rbf_svm_predictions == digit)\n",
    "    print(f\"Accuracy for digit {digit}:\")\n",
    "    print(f\"Linear SVM: {linear_svm_accuracy:.2%}\")\n",
    "    print(f\"Scaled Linear SVM: {scaled_linear_svm_accuracy:.2%}\")\n",
    "    print(f\"RBF Kernel SVM: {rbf_svm_accuracy:.2%}\")\n",
    "    print()"
   ]
  },
  {
   "cell_type": "code",
   "execution_count": null,
   "id": "731aacf1",
   "metadata": {},
   "outputs": [],
   "source": []
  },
  {
   "cell_type": "code",
   "execution_count": null,
   "id": "9d29b13d",
   "metadata": {},
   "outputs": [],
   "source": []
  },
  {
   "cell_type": "code",
   "execution_count": null,
   "id": "4f303588",
   "metadata": {},
   "outputs": [],
   "source": []
  }
 ],
 "metadata": {
  "kernelspec": {
   "display_name": "Python 3 (ipykernel)",
   "language": "python",
   "name": "python3"
  },
  "language_info": {
   "codemirror_mode": {
    "name": "ipython",
    "version": 3
   },
   "file_extension": ".py",
   "mimetype": "text/x-python",
   "name": "python",
   "nbconvert_exporter": "python",
   "pygments_lexer": "ipython3",
   "version": "3.9.13"
  }
 },
 "nbformat": 4,
 "nbformat_minor": 5
}
